{
 "cells": [
  {
   "cell_type": "markdown",
   "metadata": {},
   "source": [
    "<!--BOOK_INFORMATION-->\n",
    "<img align=\"left\" style=\"padding-right:10px;\" src=\"images/book_cover.jpg\" width=\"120\">\n",
    "\n",
    "*This notebook contains an excerpt from the [Python Programming and Numerical Methods - A Guide for Engineers and Scientists](https://www.elsevier.com/books/python-programming-and-numerical-methods/kong/978-0-12-819549-9), the content is also available at [Berkeley Python Numerical Methods](https://pythonnumericalmethods.berkeley.edu/notebooks/Index.html).*\n",
    "\n",
    "*The copyright of the book belongs to Elsevier. We also have this interactive book online for a better learning experience. The code is released under the [MIT license](https://opensource.org/licenses/MIT). If you find this content useful, please consider supporting the work on [Elsevier](https://www.elsevier.com/books/python-programming-and-numerical-methods/kong/978-0-12-819549-9) or [Amazon](https://www.amazon.com/Python-Programming-Numerical-Methods-Scientists/dp/0128195495/ref=sr_1_1?dchild=1&keywords=Python+Programming+and+Numerical+Methods+-+A+Guide+for+Engineers+and+Scientists&qid=1604761352&sr=8-1)!*"
   ]
  },
  {
   "cell_type": "markdown",
   "metadata": {},
   "source": [
    "<!--NAVIGATION-->\n",
    "< [17.3 Cubic Spline Interpolation](chapter17.03-Cubic-Spline-Interpolation.ipynb)  | [Contents](Index.ipynb) | [17.5 Newton's Polynomial Interpolation](chapter17.05-Newtons-Polynomial-Interpolation.ipynb) >"
   ]
  },
  {
   "cell_type": "markdown",
   "metadata": {},
   "source": [
    "# Lagrange Polynomial Interpolation"
   ]
  },
  {
   "cell_type": "markdown",
   "metadata": {},
   "source": [
    "Rather than finding cubic polynomials between subsequent pairs of data points, **Lagrange polynomial interpolation** finds a single polynomial that goes through all the data points. This polynomial is referred to as a **Lagrange polynomial**, $L(x)$, and as an interpolation function, it should have the property $L(x_i) = y_i$ for every point in the data set. For computing Lagrange polynomials, it is useful to write them as a linear combination of **Lagrange basis polynomials**, $P_i(x)$, where\n",
    "$$\n",
    "P_i(x) = \\prod_{j = 1, j\\ne i}^n\\frac{x - x_j}{x_i - x_j},\n",
    "$$\n",
    "\n",
    "and\n",
    "$$\n",
    "L(x) = \\sum_{i = 1}^n y_i P_i(x).\n",
    "$$\n",
    "\n",
    "Here, $\\prod$ means \"the product of\" or \"multiply out.\"\n",
    "\n",
    "You will notice that by construction, $P_i(x)$ has the property that $P_i(x_j) = 1$ when $i = j$ and $P_i(x_j) = 0$ when $i \\ne j$. Since $L(x)$ is a sum of these polynomials, you can observe that $L(x_i) = y_i$ for every point, exactly as desired.\n",
    "\n",
    "$$P(x) = L_0(x)f(x_0) + L_1(x)f (x_1) = \\frac{x − x_1}{x_0 − x_1}f(x_0) +\\frac{x − x_0}{x_1 − x_0}f (x_1).$$\n",
    "\n",
    "\n",
    "\n",
    "**TRY IT!** Find the Lagrange basis polynomials for the data set *x = [0, 1, 2]* and *y = [1, 3, 2]*. Plot each polynomial and verify the property that $P_i(x_j) = 1$ when $i = j$ and $P_i(x_j) = 0$ when $i \\ne j$.\n",
    "\n",
    "\n",
    "\\begin{eqnarray*}\n",
    "P_1(x) &=& \\frac{(x - x_1)(x - x_2)}{(x_0-x_2)(x_0-x_2)} = \\frac{(x - 1)(x - 2)}{(0-1)(0-2)} = \\frac{1}{2}(x^2 - 3x + 2),\\\\\n",
    "P_2(x) &=& \\frac{(x - x_0)(x - x_2)}{(x_1-x_0)(x_1-x_2)} = \\frac{(x - 0)(x - 2)}{(1-0)(1-2)} = -x^2 + 2x,\\\\\n",
    "P_3(x) &=& \\frac{(x - x_0)(x - x_1)}{(x_2-x_0)(x_2-x_1)} = \\frac{(x - 0)(x - 1)}{(2-0)(2-1)} = \\frac{1}{2}(x^2 - x).\n",
    "\\end{eqnarray*}"
   ]
  },
  {
   "cell_type": "code",
   "execution_count": 1,
   "metadata": {},
   "outputs": [],
   "source": [
    "import numpy as np\n",
    "import numpy.polynomial.polynomial as poly\n",
    "import matplotlib.pyplot as plt\n",
    "\n",
    "plt.style.use('seaborn-poster')"
   ]
  },
  {
   "cell_type": "code",
   "execution_count": 2,
   "metadata": {},
   "outputs": [],
   "source": [
    "def lagrange_polynomial_basis(X,  x, base, degree):\n",
    "    n = degree +1\n",
    "    b = [(x - X[m]) / (X[base] - X[m])\n",
    "             for m in range(n) if m != base]\n",
    "    #print(b)\n",
    "    return np.prod(b, axis=0) \n"
   ]
  },
  {
   "cell_type": "code",
   "execution_count": 3,
   "metadata": {},
   "outputs": [
    {
     "name": "stderr",
     "output_type": "stream",
     "text": [
      "No handles with labels found to put in legend.\n"
     ]
    },
    {
     "data": {
      "image/png": "[encoded data removed]",
      "text/plain": [
       "<Figure size 921.6x633.6 with 1 Axes>"
      ]
     },
     "metadata": {
      "needs_background": "light"
     },
     "output_type": "display_data"
    }
   ],
   "source": [
    "X = [0, 1, 2]\n",
    "Y = [1, 3, 2]\n",
    "plt.plot(X, Y, 'ko')\n",
    "plt.title('Given Data')\n",
    "plt.xlabel('x')\n",
    "plt.ylabel('y')\n",
    "plt.grid()\n",
    "plt.legend()\n",
    "plt.show()"
   ]
  },
  {
   "cell_type": "code",
   "execution_count": 4,
   "metadata": {},
   "outputs": [
    {
     "data": {
      "text/plain": [
       "array([1 - x, x], dtype=object)"
      ]
     },
     "execution_count": 4,
     "metadata": {},
     "output_type": "execute_result"
    }
   ],
   "source": [
    "from sympy import *\n",
    "from sympy.abc import x\n",
    "degree = 1\n",
    "mx = degree +1\n",
    "x_1d = []\n",
    "\n",
    "for i in range(mx) :\n",
    "        x_1d.append(lagrange_polynomial_basis(X, x, i, 1) )\n",
    "x_1d = np.asarray(x_1d)\n",
    "x_1d"
   ]
  },
  {
   "cell_type": "code",
   "execution_count": 5,
   "metadata": {},
   "outputs": [
    {
     "data": {
      "text/latex": [
       "$\\displaystyle 2 x + 1$"
      ],
      "text/plain": [
       "2*x + 1"
      ]
     },
     "execution_count": 5,
     "metadata": {},
     "output_type": "execute_result"
    }
   ],
   "source": [
    "L2 = Y[0]*x_1d[0] + Y[1]*x_1d[1] \n",
    "L2"
   ]
  },
  {
   "cell_type": "code",
   "execution_count": 6,
   "metadata": {},
   "outputs": [
    {
     "data": {
      "text/plain": [
       "[1, 3]"
      ]
     },
     "execution_count": 6,
     "metadata": {},
     "output_type": "execute_result"
    }
   ],
   "source": [
    "f_value = [L2.subs(x,X[i]) for i in range(2)]\n",
    "f_value"
   ]
  },
  {
   "cell_type": "markdown",
   "metadata": {},
   "source": [
    "\n",
    "<div class=\"alert alert-block alert-info\">\n",
    "<b> Question 1:</b> \n",
    "    </div>"
   ]
  },
  {
   "cell_type": "markdown",
   "metadata": {},
   "source": [
    "## Write lagrange linear polynomial for  X[1],X[2]:"
   ]
  },
  {
   "cell_type": "code",
   "execution_count": null,
   "metadata": {},
   "outputs": [],
   "source": []
  },
  {
   "cell_type": "code",
   "execution_count": 7,
   "metadata": {},
   "outputs": [
    {
     "name": "stdout",
     "output_type": "stream",
     "text": [
      "(1 - x)*(1 - x/2)\n",
      "x*(2 - x)\n",
      "x*(x - 1)/2\n"
     ]
    },
    {
     "data": {
      "text/plain": [
       "[(1 - x)*(1 - x/2), x*(2 - x), x*(x - 1)/2]"
      ]
     },
     "execution_count": 7,
     "metadata": {},
     "output_type": "execute_result"
    }
   ],
   "source": [
    "degree = 2\n",
    "mx = degree +1\n",
    "x_2d = []\n",
    "\n",
    "for i in range(mx) :\n",
    "        x_2d.append(lagrange_polynomial_basis(X, x, i, degree) )\n",
    "        print(x_2d[i]) \n",
    "x_2d\n",
    "\n",
    "\n",
    "\n"
   ]
  },
  {
   "cell_type": "code",
   "execution_count": 8,
   "metadata": {},
   "outputs": [
    {
     "name": "stdout",
     "output_type": "stream",
     "text": [
      "x**2/2 - 3*x/2 + 1\n",
      "-x**2 + 2*x\n",
      "x**2/2 - x/2\n"
     ]
    }
   ],
   "source": [
    "x_2d = []\n",
    "for i in range(mx) :\n",
    "        x_2d.append(lagrange_polynomial_basis(X, x, i, degree) )\n",
    "        x_2d[i] = expand(x_2d[i])\n",
    "        print(x_2d[i])   \n",
    "              \n",
    "x_2d = np.asarray(x_2d)\n",
    "\n"
   ]
  },
  {
   "cell_type": "code",
   "execution_count": 9,
   "metadata": {},
   "outputs": [
    {
     "name": "stdout",
     "output_type": "stream",
     "text": [
      "[[1, -3/2, 1/2], [0, 2, -1], [0, -1/2, 1/2]]\n"
     ]
    }
   ],
   "source": [
    "P=[]\n",
    "rows, cols = mx,mx\n",
    "for i in range(rows):\n",
    "    col = []\n",
    "    col.append(x_2d[i].coeff(1))\n",
    "    col.append(x_2d[i].coeff(x))\n",
    "    col.append(x_2d[i].coeff(x**2))  \n",
    "    P.append(col)\n",
    "print(P)    "
   ]
  },
  {
   "cell_type": "code",
   "execution_count": 10,
   "metadata": {},
   "outputs": [],
   "source": [
    "from numpy.polynomial import Polynomial\n",
    "#P1_coeff = [1,-1.5,.5]\n",
    "#P2_coeff = [0, 2,-1]\n",
    "#P3_coeff = [0,-.5,.5]\n",
    "P1_coeff = P[0]\n",
    "P2_coeff = P[1]\n",
    "P3_coeff = P[2]\n",
    "\n",
    "# get the polynomial function\n",
    "P1 = Polynomial(P1_coeff)\n",
    "P2 = Polynomial(P2_coeff)\n",
    "P3 = Polynomial(P3_coeff)\n",
    "\n",
    "x_new = np.arange(-1.0, 3.1, 0.1)"
   ]
  },
  {
   "cell_type": "markdown",
   "metadata": {},
   "source": [
    "**TRY IT!** For the previous example, compute and plot the Lagrange polynomial and verify that it goes through each of the data points."
   ]
  },
  {
   "cell_type": "code",
   "execution_count": 11,
   "metadata": {},
   "outputs": [],
   "source": [
    "L = Y[0]*P1 + Y[1]*P2 + Y[2]*P3"
   ]
  },
  {
   "cell_type": "code",
   "execution_count": 12,
   "metadata": {},
   "outputs": [
    {
     "data": {
      "image/png": "[encoded data removed]",
      "text/plain": [
       "<Figure size 720x576 with 1 Axes>"
      ]
     },
     "metadata": {
      "needs_background": "light"
     },
     "output_type": "display_data"
    }
   ],
   "source": [
    "fig = plt.figure(figsize = (10,8))\n",
    "plt.plot(x_new, L(x_new), 'b', X, Y, 'ro')\n",
    "plt.title('Lagrange Polynomial')\n",
    "plt.grid()\n",
    "plt.xlabel('x')\n",
    "plt.ylabel('y')\n",
    "plt.show()"
   ]
  },
  {
   "cell_type": "markdown",
   "metadata": {},
   "source": [
    "**WARNING!** Lagrange interpolation polynomials are defined outside the area of interpolation, that is outside of the interval $[x_1,x_n]$, will grow very fast and unbounded outside this region. This is not a desirable feature because in general, this is not the behavior of the underlying data. Thus, a Lagrange interpolation should never be used to interpolate outside this region."
   ]
  },
  {
   "cell_type": "markdown",
   "metadata": {},
   "source": [
    "<div class=\"alert alert-block alert-info\">\n",
    "<b> Question 2:</b> \n",
    "</div>"
   ]
  },
  {
   "cell_type": "markdown",
   "metadata": {},
   "source": [
    "### Write Lagrangian polynomials degree 3 for:</b> \n",
    "\n",
    "The upward velocity of a rocket is given as a function of time in below Table<br>\n",
    "t(s) v(t)(m/s)<br>\n",
    "0  0<br>\n",
    "10 227.04<br>\n",
    "15 362.78<br>\n",
    "20 517.35<br>\n",
    "22.5 602.97<br>\n",
    "30 901.67\n"
   ]
  },
  {
   "cell_type": "code",
   "execution_count": null,
   "metadata": {},
   "outputs": [],
   "source": []
  },
  {
   "cell_type": "markdown",
   "metadata": {},
   "source": [
    "## Using lagrange from scipy\n",
    "\n",
    "Instead of we calculate everything from scratch, in scipy, we can use the *lagrange* function directly to interpolate the data. Let's see the above example. "
   ]
  },
  {
   "cell_type": "code",
   "execution_count": 13,
   "metadata": {},
   "outputs": [],
   "source": [
    "from scipy.interpolate import lagrange"
   ]
  },
  {
   "cell_type": "code",
   "execution_count": 14,
   "metadata": {},
   "outputs": [],
   "source": [
    "f = lagrange(X, Y)"
   ]
  },
  {
   "cell_type": "code",
   "execution_count": 15,
   "metadata": {},
   "outputs": [
    {
     "data": {
      "image/png": "[encoded data removed]",
      "text/plain": [
       "<Figure size 720x576 with 1 Axes>"
      ]
     },
     "metadata": {
      "needs_background": "light"
     },
     "output_type": "display_data"
    }
   ],
   "source": [
    "fig = plt.figure(figsize = (10,8))\n",
    "plt.plot(x_new, f(x_new), 'b', X, Y, 'ro')\n",
    "plt.title('Lagrange Polynomial')\n",
    "plt.grid()\n",
    "plt.xlabel('x')\n",
    "plt.ylabel('y')\n",
    "plt.show()"
   ]
  },
  {
   "cell_type": "markdown",
   "metadata": {},
   "source": [
    "<div class=\"alert alert-block alert-info\">\n",
    "<b> Question 3:</b> \n",
    "</div>"
   ]
  },
  {
   "cell_type": "markdown",
   "metadata": {},
   "source": [
    "### Write Divided Difference Polynomial for:</b> \n",
    "\n",
    "The upward velocity of a rocket is given as a function of time in below Table<br>\n",
    "t(s) v(t)(m/s)<br>\n",
    "0  0<br>\n",
    "10 227.04<br>\n",
    "15 362.78<br>\n",
    "20 517.35<br>\n",
    "22.5 602.97<br>\n",
    "30 901.67\n"
   ]
  },
  {
   "cell_type": "markdown",
   "metadata": {},
   "source": [
    "<!--NAVIGATION-->\n",
    "< [17.3 Cubic Spline Interpolation](chapter17.03-Cubic-Spline-Interpolation.ipynb)  | [Contents](Index.ipynb) | [17.5 Newton's Polynomial Interpolation](chapter17.05-Newtons-Polynomial-Interpolation.ipynb) >"
   ]
  }
 ],
 "metadata": {
  "kernelspec": {
   "display_name": "Python 3 (ipykernel)",
   "language": "python",
   "name": "python3"
  },
  "language_info": {
   "codemirror_mode": {
    "name": "ipython",
    "version": 3
   },
   "file_extension": ".py",
   "mimetype": "text/x-python",
   "name": "python",
   "nbconvert_exporter": "python",
   "pygments_lexer": "ipython3",
   "version": "3.9.13"
  }
 },
 "nbformat": 4,
 "nbformat_minor": 2
}
