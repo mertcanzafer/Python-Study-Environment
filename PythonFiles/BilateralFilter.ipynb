{
 "cells": [
  {
   "cell_type": "code",
   "execution_count": 1,
   "id": "a75bcc04",
   "metadata": {},
   "outputs": [],
   "source": [
    "import cv2\n",
    "import numpy as np\n",
    "from skimage.util import img_as_float\n",
    "from skimage.filters import median"
   ]
  },
  {
   "cell_type": "code",
   "execution_count": 2,
   "id": "f724fd91",
   "metadata": {},
   "outputs": [
    {
     "name": "stdout",
     "output_type": "stream",
     "text": [
      "Image shape: (300, 332)\n",
      "Image dtype: uint8\n",
      "\n",
      "Press any key to close windows...\n",
      "Denoised image saved as 'denoised_dog.png'\n"
     ]
    }
   ],
   "source": [
    "imgGaussianNoise = cv2.imread(\"NoisyDog.png\", 0)\n",
    "\n",
    "if imgGaussianNoise is None:\n",
    "    print(\"Error: Could not load image 'NoisyDog.png'\")\n",
    "    print(\"Make sure the file exists in the current directory\")\n",
    "    exit()\n",
    "\n",
    "img = imgGaussianNoise\n",
    "\n",
    "bFilter = cv2.bilateralFilter(img, 5, 75, 75, borderType=cv2.BORDER_CONSTANT)\n",
    "\n",
    "gaussian_blur = cv2.GaussianBlur(img, (5, 5), 0)\n",
    "median_filter = median(img_as_float(img))\n",
    "median_filter = (median_filter * 255).astype(np.uint8)\n",
    "\n",
    "cv2.imshow(\"Original Noisy Image\", img)\n",
    "cv2.imshow(\"Bilateral Filter Denoised\", bFilter)\n",
    "cv2.imshow(\"Gaussian Blur\", gaussian_blur)\n",
    "cv2.imshow(\"Median Filter\", median_filter)\n",
    "\n",
    "print(f\"Image shape: {img.shape}\")\n",
    "print(f\"Image dtype: {img.dtype}\")\n",
    "print(\"\\nPress any key to close windows...\")\n",
    "\n",
    "cv2.waitKey(0)\n",
    "cv2.destroyAllWindows()\n",
    "\n",
    "cv2.imwrite(\"denoised_dog.png\", bFilter)\n",
    "print(\"Denoised image saved as 'denoised_dog.png'\")"
   ]
  }
 ],
 "metadata": {
  "kernelspec": {
   "display_name": "My_envoriment",
   "language": "python",
   "name": "python3"
  },
  "language_info": {
   "codemirror_mode": {
    "name": "ipython",
    "version": 3
   },
   "file_extension": ".py",
   "mimetype": "text/x-python",
   "name": "python",
   "nbconvert_exporter": "python",
   "pygments_lexer": "ipython3",
   "version": "3.10.1"
  }
 },
 "nbformat": 4,
 "nbformat_minor": 5
}
