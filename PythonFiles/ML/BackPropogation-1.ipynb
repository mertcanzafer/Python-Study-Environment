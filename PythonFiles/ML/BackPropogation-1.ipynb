{
 "cells": [
  {
   "cell_type": "code",
   "execution_count": 16,
   "metadata": {},
   "outputs": [],
   "source": [
    "import numpy as np"
   ]
  },
  {
   "cell_type": "code",
   "execution_count": 17,
   "metadata": {},
   "outputs": [],
   "source": [
    "# inputs = (hours sleeping, hours studying)\n",
    "#output = (test_Score)\n",
    "\n",
    "X = np.array(([2,9],[1,5],[3,6],[6,6]),dtype=float)\n",
    "\n",
    "y = np.array(([92],[86],[59],[67]),dtype= float)"
   ]
  },
  {
   "cell_type": "code",
   "execution_count": 18,
   "metadata": {},
   "outputs": [],
   "source": [
    "# Scale Units\n",
    "\n",
    "# np.amax(X,axis=0) will going to find maximum value for each collumn\n",
    "\n",
    "X = X / np.amax(X,axis=0)\n",
    "\n",
    "y = y/100"
   ]
  },
  {
   "cell_type": "code",
   "execution_count": 20,
   "metadata": {},
   "outputs": [],
   "source": [
    "class NeuralNetwork(object):\n",
    "    def __init__(self):\n",
    "        # parameters\n",
    "        self.inputSize = 2\n",
    "        self.outputSize = 1\n",
    "        self.hiddenSize = 3\n",
    "\n",
    "        # Weights\n",
    "        self.W1 = np.random.randn(self.inputSize,self.hiddenSize) #(2x3) natrix\n",
    "        self.W2 = np.random.randn(self.hiddenSize,self.outputSize) #(3x1) matrix \n",
    "\n",
    "    def Sigmoid(self,X,deriv = False):\n",
    "        if(deriv):\n",
    "            return X * (1 - X)\n",
    "        return 1 / (1 + np.exp(-X))\n",
    "    \n",
    "    def feedForward(self,X):\n",
    "        # Forward propogation\n",
    "        self.z = np.dot(X,self.W1) # Dot product of input with weight\n",
    "        self.O1 = self.Sigmoid(self.z) # Activition function\n",
    "        self.z2 = np.dot(self.W2,self.O1) # Dot product of hidden layer with weight\n",
    "        output = self.Sigmoid(self.z2)\n",
    "        return output\n",
    "\n",
    "    def backward(self,X,y,output):\n",
    "        self.error = y - output\n",
    "        self.delta = self.error * self.Sigmoid(output,deriv= True)\n",
    "\n",
    "        self.z2_error = self.delta.dot(self.W2.T)\n",
    "        self.z2_delta = self.z2_error * self.Sigmoid(self.O1,deriv=True) \n",
    "\n",
    "\n",
    "        self.W1 += X.T.dot(self.z2_delta)\n",
    "        self.W2 += self.O1.T.dot(self.delta) \n",
    "\n",
    "    def Train(self,X,y):\n",
    "        output = self.feedForward(X)\n",
    "        self.backward(X,y,output)\n",
    "\n",
    "\n",
    "NN = NeuralNetwork()\n"
   ]
  }
 ],
 "metadata": {
  "kernelspec": {
   "display_name": "My_envoriment",
   "language": "python",
   "name": "python3"
  },
  "language_info": {
   "codemirror_mode": {
    "name": "ipython",
    "version": 3
   },
   "file_extension": ".py",
   "mimetype": "text/x-python",
   "name": "python",
   "nbconvert_exporter": "python",
   "pygments_lexer": "ipython3",
   "version": "3.10.1"
  }
 },
 "nbformat": 4,
 "nbformat_minor": 2
}
